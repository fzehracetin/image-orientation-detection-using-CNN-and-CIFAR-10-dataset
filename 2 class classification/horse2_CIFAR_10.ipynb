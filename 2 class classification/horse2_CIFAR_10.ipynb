{
  "nbformat": 4,
  "nbformat_minor": 0,
  "metadata": {
    "colab": {
      "name": "horse2_CIFAR-10.ipynb",
      "version": "0.3.2",
      "provenance": []
    },
    "kernelspec": {
      "name": "python3",
      "display_name": "Python 3"
    }
  },
  "cells": [
    {
      "cell_type": "code",
      "metadata": {
        "id": "GvzYsodCcCVf",
        "colab_type": "code",
        "outputId": "140040a9-d8a8-4bc9-8b79-66be6e62fc02",
        "colab": {
          "base_uri": "https://localhost:8080/",
          "height": 34
        }
      },
      "source": [
        "from __future__ import print_function\n",
        "import keras\n",
        "from keras.datasets import cifar10\n",
        "from keras.preprocessing.image import ImageDataGenerator\n",
        "from keras.models import Sequential\n",
        "from keras.layers import Dense, Dropout, Activation, Flatten\n",
        "from keras.layers import Conv2D, MaxPooling2D\n",
        "import os\n",
        "import numpy as np\n",
        "import matplotlib.pyplot as plt\n",
        "\n",
        "from google.colab import drive, files\n",
        "drive.mount('/content/gdrive/')\n",
        "path = '/content/gdrive/My Drive/np_arrays/'\n",
        "models_path = '/content/gdrive/My Drive/np_arrays/models/'\n",
        "data_path = '/content/gdrive/My Drive/np_arrays/datasets/'"
      ],
      "execution_count": 0,
      "outputs": [
        {
          "output_type": "stream",
          "text": [
            "Drive already mounted at /content/gdrive/; to attempt to forcibly remount, call drive.mount(\"/content/gdrive/\", force_remount=True).\n"
          ],
          "name": "stdout"
        }
      ]
    },
    {
      "cell_type": "code",
      "metadata": {
        "id": "EHUcgqY3cLZd",
        "colab_type": "code",
        "colab": {}
      },
      "source": [
        "batch_size = 32\n",
        "num_classes = 2\n",
        "epochs = 25\n",
        "data_augmentation = True\n",
        "num_predictions = 20\n",
        "\n",
        "x_train = np.load(data_path + \"trainset_horse2.npy\")\n",
        "y_train = np.load(data_path + \"trainlabel_horse2.npy\")\n",
        "z_train = np.load(data_path + \"traintype_horse2.npy\") \n",
        "\n",
        "x_test = np.load(data_path + \"testset_horse2.npy\")\n",
        "y_test = np.load(data_path + \"testlabel_horse2.npy\")\n",
        "z_test = np.load(data_path + \"testtype_horse2.npy\")"
      ],
      "execution_count": 0,
      "outputs": []
    },
    {
      "cell_type": "code",
      "metadata": {
        "id": "9NFFsab3dZX5",
        "colab_type": "code",
        "outputId": "e4547892-c315-49f1-8c4b-c6d4398ced4a",
        "colab": {
          "base_uri": "https://localhost:8080/",
          "height": 314
        }
      },
      "source": [
        "#Visualize image and label\n",
        "i = 15\n",
        "rgb = x_test[i] \n",
        "plt.imshow(rgb)\n",
        "plt.title(int(y_test[i]))\n",
        "\n",
        "print(z_test[i])\n",
        "\n",
        "if (y_test[i] == 1):\n",
        "  print(\"ters\")\n",
        "else:\n",
        "  print(\"duz\")"
      ],
      "execution_count": 0,
      "outputs": [
        {
          "output_type": "stream",
          "text": [
            "[7]\n",
            "ters\n"
          ],
          "name": "stdout"
        },
        {
          "output_type": "display_data",
          "data": {
            "image/png": "[encoded data removed]",
            "text/plain": [
              "<Figure size 432x288 with 1 Axes>"
            ]
          },
          "metadata": {
            "tags": []
          }
        }
      ]
    },
    {
      "cell_type": "code",
      "metadata": {
        "id": "XvrzSXVRdg-u",
        "colab_type": "code",
        "outputId": "5153fa25-d2de-425d-cb7e-a86877439959",
        "colab": {
          "base_uri": "https://localhost:8080/",
          "height": 84
        }
      },
      "source": [
        "print(x_train.shape)\n",
        "print(y_train.shape)\n",
        "print(x_test.shape)\n",
        "print(y_test.shape)"
      ],
      "execution_count": 0,
      "outputs": [
        {
          "output_type": "stream",
          "text": [
            "(30000, 32, 32, 3)\n",
            "(30000,)\n",
            "(6000, 32, 32, 3)\n",
            "(6000,)\n"
          ],
          "name": "stdout"
        }
      ]
    },
    {
      "cell_type": "code",
      "metadata": {
        "id": "Yh4fiQwHdkr_",
        "colab_type": "code",
        "colab": {}
      },
      "source": [
        "model = Sequential()\n",
        "model.add(Conv2D(32, (3, 3), padding='same',\n",
        "                 input_shape=x_train.shape[1:]))\n",
        "model.add(Activation('relu'))\n",
        "model.add(Conv2D(32, (3, 3)))\n",
        "model.add(Activation('relu'))\n",
        "model.add(MaxPooling2D(pool_size=(2, 2)))\n",
        "model.add(Dropout(0.25))\n",
        "\n",
        "model.add(Conv2D(64, (3, 3), padding='same'))\n",
        "model.add(Activation('relu'))\n",
        "model.add(Conv2D(64, (3, 3)))\n",
        "model.add(Activation('relu'))\n",
        "model.add(MaxPooling2D(pool_size=(2, 2)))\n",
        "model.add(Dropout(0.25))\n",
        "\n",
        "model.add(Flatten())\n",
        "model.add(Dense(512))\n",
        "model.add(Activation('relu'))\n",
        "model.add(Dropout(0.5))\n",
        "#model.add(Dense(num_classes))\n",
        "model.add(Dense(1))\n",
        "model.add(Activation('sigmoid'))\n",
        "\n",
        "opt = keras.optimizers.rmsprop(lr=0.01, decay=1e-6) #lr 0.0001 idi\n",
        "model.compile(loss='binary_crossentropy',\n",
        "              optimizer='adam',\n",
        "              metrics=['accuracy'])"
      ],
      "execution_count": 0,
      "outputs": []
    },
    {
      "cell_type": "code",
      "metadata": {
        "id": "Lp08VdzvdpO2",
        "colab_type": "code",
        "colab": {}
      },
      "source": [
        "x_train = x_train.astype('float32')\n",
        "x_test = x_test.astype('float32')\n",
        "x_train /= 255\n",
        "x_test /= 255"
      ],
      "execution_count": 0,
      "outputs": []
    },
    {
      "cell_type": "code",
      "metadata": {
        "id": "K6yKWLIUds9G",
        "colab_type": "code",
        "outputId": "04b4f944-6332-4b47-c45c-448d54039be5",
        "colab": {
          "base_uri": "https://localhost:8080/",
          "height": 890
        }
      },
      "source": [
        "model.fit(x_train, y_train,\n",
        "              batch_size=batch_size,\n",
        "              epochs=epochs,\n",
        "              validation_data=(x_test, y_test),\n",
        "              shuffle=True\n",
        "              )"
      ],
      "execution_count": 0,
      "outputs": [
        {
          "output_type": "stream",
          "text": [
            "Train on 30000 samples, validate on 6000 samples\n",
            "Epoch 1/25\n",
            "30000/30000 [==============================] - 642s 21ms/step - loss: 0.5377 - acc: 0.7025 - val_loss: 0.5654 - val_acc: 0.7342\n",
            "Epoch 2/25\n",
            "30000/30000 [==============================] - 649s 22ms/step - loss: 0.4731 - acc: 0.7537 - val_loss: 0.4435 - val_acc: 0.8083\n",
            "Epoch 3/25\n",
            "30000/30000 [==============================] - 652s 22ms/step - loss: 0.4365 - acc: 0.7800 - val_loss: 0.3702 - val_acc: 0.8428\n",
            "Epoch 4/25\n",
            "30000/30000 [==============================] - 651s 22ms/step - loss: 0.4119 - acc: 0.7980 - val_loss: 0.3520 - val_acc: 0.8503\n",
            "Epoch 5/25\n",
            "30000/30000 [==============================] - 654s 22ms/step - loss: 0.3852 - acc: 0.8139 - val_loss: 0.3414 - val_acc: 0.8595\n",
            "Epoch 6/25\n",
            "30000/30000 [==============================] - 656s 22ms/step - loss: 0.3650 - acc: 0.8249 - val_loss: 0.3335 - val_acc: 0.8647\n",
            "Epoch 7/25\n",
            "30000/30000 [==============================] - 654s 22ms/step - loss: 0.3425 - acc: 0.8388 - val_loss: 0.3114 - val_acc: 0.8807\n",
            "Epoch 8/25\n",
            "30000/30000 [==============================] - 654s 22ms/step - loss: 0.3297 - acc: 0.8474 - val_loss: 0.2973 - val_acc: 0.8862\n",
            "Epoch 9/25\n",
            "30000/30000 [==============================] - 653s 22ms/step - loss: 0.3140 - acc: 0.8538 - val_loss: 0.2729 - val_acc: 0.8870\n",
            "Epoch 10/25\n",
            "30000/30000 [==============================] - 650s 22ms/step - loss: 0.3038 - acc: 0.8610 - val_loss: 0.2309 - val_acc: 0.9118\n",
            "Epoch 11/25\n",
            "30000/30000 [==============================] - 653s 22ms/step - loss: 0.2917 - acc: 0.8695 - val_loss: 0.2898 - val_acc: 0.8883\n",
            "Epoch 12/25\n",
            "30000/30000 [==============================] - 653s 22ms/step - loss: 0.2753 - acc: 0.8771 - val_loss: 0.2328 - val_acc: 0.9132\n",
            "Epoch 13/25\n",
            "30000/30000 [==============================] - 652s 22ms/step - loss: 0.2641 - acc: 0.8837 - val_loss: 0.2625 - val_acc: 0.8923\n",
            "Epoch 14/25\n",
            "30000/30000 [==============================] - 653s 22ms/step - loss: 0.2522 - acc: 0.8872 - val_loss: 0.2701 - val_acc: 0.8957\n",
            "Epoch 15/25\n",
            "30000/30000 [==============================] - 654s 22ms/step - loss: 0.2403 - acc: 0.8931 - val_loss: 0.2598 - val_acc: 0.8993\n",
            "Epoch 16/25\n",
            "30000/30000 [==============================] - 653s 22ms/step - loss: 0.2299 - acc: 0.9018 - val_loss: 0.2725 - val_acc: 0.8862\n",
            "Epoch 17/25\n",
            "30000/30000 [==============================] - 653s 22ms/step - loss: 0.2250 - acc: 0.9046 - val_loss: 0.2645 - val_acc: 0.8927\n",
            "Epoch 18/25\n",
            "30000/30000 [==============================] - 654s 22ms/step - loss: 0.2156 - acc: 0.9093 - val_loss: 0.2275 - val_acc: 0.9062\n",
            "Epoch 19/25\n",
            "30000/30000 [==============================] - 655s 22ms/step - loss: 0.2028 - acc: 0.9137 - val_loss: 0.2629 - val_acc: 0.8877\n",
            "Epoch 20/25\n",
            "30000/30000 [==============================] - 652s 22ms/step - loss: 0.1992 - acc: 0.9169 - val_loss: 0.2880 - val_acc: 0.8873\n",
            "Epoch 21/25\n",
            "30000/30000 [==============================] - 658s 22ms/step - loss: 0.1921 - acc: 0.9208 - val_loss: 0.2715 - val_acc: 0.8967\n",
            "Epoch 22/25\n",
            "30000/30000 [==============================] - 660s 22ms/step - loss: 0.1844 - acc: 0.9215 - val_loss: 0.2689 - val_acc: 0.8900\n",
            "Epoch 23/25\n",
            "30000/30000 [==============================] - 658s 22ms/step - loss: 0.1771 - acc: 0.9265 - val_loss: 0.2534 - val_acc: 0.8952\n",
            "Epoch 24/25\n",
            "30000/30000 [==============================] - 658s 22ms/step - loss: 0.1692 - acc: 0.9297 - val_loss: 0.2886 - val_acc: 0.8863\n",
            "Epoch 25/25\n",
            "30000/30000 [==============================] - 637s 21ms/step - loss: 0.1677 - acc: 0.9308 - val_loss: 0.2573 - val_acc: 0.8975\n"
          ],
          "name": "stdout"
        },
        {
          "output_type": "execute_result",
          "data": {
            "text/plain": [
              "<keras.callbacks.History at 0x7f4488f357f0>"
            ]
          },
          "metadata": {
            "tags": []
          },
          "execution_count": 8
        }
      ]
    },
    {
      "cell_type": "code",
      "metadata": {
        "id": "PVnDJMZjdvgm",
        "colab_type": "code",
        "colab": {}
      },
      "source": [
        "import h5py\n",
        "model.save(models_path + \"cifar10_horse2v2.h5\") #saves the trained model"
      ],
      "execution_count": 0,
      "outputs": []
    }
  ]
}