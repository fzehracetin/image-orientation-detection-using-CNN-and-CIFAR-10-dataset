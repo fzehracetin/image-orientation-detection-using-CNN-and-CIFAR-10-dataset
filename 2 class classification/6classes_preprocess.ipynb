{
  "nbformat": 4,
  "nbformat_minor": 0,
  "metadata": {
    "colab": {
      "name": "6classes_preprocess.ipynb",
      "version": "0.3.2",
      "provenance": [],
      "collapsed_sections": []
    },
    "kernelspec": {
      "name": "python3",
      "display_name": "Python 3"
    },
    "accelerator": "GPU"
  },
  "cells": [
    {
      "cell_type": "code",
      "metadata": {
        "id": "hNb_Oc1xUsR_",
        "colab_type": "code",
        "outputId": "a363f5be-7a26-4684-c8c3-459481cdb95a",
        "colab": {
          "base_uri": "https://localhost:8080/",
          "height": 138
        }
      },
      "source": [
        "import keras\n",
        "from keras.datasets import cifar10\n",
        "import numpy as np\n",
        "import matplotlib.pyplot as plt\n",
        "import random\n",
        "\n",
        "from google.colab import drive, files\n",
        "drive.mount('/content/gdrive/')\n",
        "path = '/content/gdrive/My Drive/np_arrays/datasets/'\n",
        "models_path = '/content/gdrive/My Drive/np_arrays/models/'\n",
        "data_path = '/content/gdrive/My Drive/np_arrays/datasets/'"
      ],
      "execution_count": 2,
      "outputs": [
        {
          "output_type": "stream",
          "text": [
            "Using TensorFlow backend.\n"
          ],
          "name": "stderr"
        },
        {
          "output_type": "stream",
          "text": [
            "Go to this URL in a browser: https://accounts.google.com/o/oauth2/auth?client_id=947318989803-6bn6qk8qdgf4n4g3pfee6491hc0brc4i.apps.googleusercontent.com&redirect_uri=urn%3Aietf%3Awg%3Aoauth%3A2.0%3Aoob&scope=email%20https%3A%2F%2Fwww.googleapis.com%2Fauth%2Fdocs.test%20https%3A%2F%2Fwww.googleapis.com%2Fauth%2Fdrive%20https%3A%2F%2Fwww.googleapis.com%2Fauth%2Fdrive.photos.readonly%20https%3A%2F%2Fwww.googleapis.com%2Fauth%2Fpeopleapi.readonly&response_type=code\n",
            "\n",
            "Enter your authorization code:\n",
            "··········\n",
            "Mounted at /content/gdrive/\n"
          ],
          "name": "stdout"
        }
      ]
    },
    {
      "cell_type": "code",
      "metadata": {
        "id": "pQ1kYCWk-TDA",
        "colab_type": "code",
        "outputId": "fa04d10a-439f-4a76-df9a-481a43791a34",
        "colab": {
          "base_uri": "https://localhost:8080/",
          "height": 50
        }
      },
      "source": [
        "(x_train, y_train), (x_test, y_test) = cifar10.load_data()\n",
        "\n",
        "labels = ['airplane', 'automobile', 'bird', 'cat', 'deer', 'dog', 'frog', 'horse', 'ship', 'truck']"
      ],
      "execution_count": 3,
      "outputs": [
        {
          "output_type": "stream",
          "text": [
            "Downloading data from https://www.cs.toronto.edu/~kriz/cifar-10-python.tar.gz\n",
            "170500096/170498071 [==============================] - 6s 0us/step\n"
          ],
          "name": "stdout"
        }
      ]
    },
    {
      "cell_type": "code",
      "metadata": {
        "id": "1mU9mJS9_r8s",
        "colab_type": "code",
        "outputId": "27d3bbbf-d01b-4ade-beab-d71ad5b2477a",
        "colab": {
          "base_uri": "https://localhost:8080/",
          "height": 84
        }
      },
      "source": [
        "print(len(x_train))\n",
        "print(len(x_test))\n",
        "print(len(y_train))\n",
        "print(len(y_test))"
      ],
      "execution_count": 5,
      "outputs": [
        {
          "output_type": "stream",
          "text": [
            "50000\n",
            "10000\n",
            "50000\n",
            "10000\n"
          ],
          "name": "stdout"
        }
      ]
    },
    {
      "cell_type": "code",
      "metadata": {
        "id": "HnnnsqLTaJQO",
        "colab_type": "code",
        "colab": {}
      },
      "source": [
        "def setMaker(index, x_set, y_set):\n",
        "  for i in range (0, 50000):\n",
        "    if (y_train[i] == index): #automobile\n",
        "      x_set.append(x_train[i])\n",
        "      y_set.append(y_train[i])\n",
        "    \n",
        "  for i in range (0, 10000):\n",
        "     if (y_test[i] == index):\n",
        "      x_set.append(x_test[i])\n",
        "      y_set.append(y_test[i])"
      ],
      "execution_count": 0,
      "outputs": []
    },
    {
      "cell_type": "code",
      "metadata": {
        "id": "WcIfozUra6Hr",
        "colab_type": "code",
        "colab": {}
      },
      "source": [
        "#Train Matrisi yap #datasetten belli labeldeki şeyleri çekmek\n",
        "a_tr = []\n",
        "al_tr = []\n",
        "\n",
        "b_tr = []\n",
        "bl_tr = []\n",
        "\n",
        "c_tr = []\n",
        "cl_tr = []\n",
        "\n",
        "d_tr = []\n",
        "dl_tr = []\n",
        "\n",
        "e_tr = []\n",
        "el_tr = []\n",
        "\n",
        "f_tr = []\n",
        "fl_tr = []\n",
        "\n",
        "setMaker(1, a_tr, al_tr) #automobile\n",
        "setMaker(2, b_tr, bl_tr) #bird\n",
        "setMaker(3, c_tr, cl_tr) #cat\n",
        "setMaker(4, d_tr, dl_tr) #deer\n",
        "setMaker(5, e_tr, el_tr) #dog\n",
        "setMaker(9, f_tr, fl_tr) #truck"
      ],
      "execution_count": 0,
      "outputs": []
    },
    {
      "cell_type": "code",
      "metadata": {
        "id": "xgPAM_s1bd4d",
        "colab_type": "code",
        "colab": {}
      },
      "source": [
        " #Test Matrisi yap #datasetten belli labeldeki şeyleri çekmek\n",
        "a_ts = []\n",
        "al_ts = []\n",
        "\n",
        "setMaker(7, a_ts, al_ts)"
      ],
      "execution_count": 0,
      "outputs": []
    },
    {
      "cell_type": "code",
      "metadata": {
        "id": "FGP8RY6jSkEf",
        "colab_type": "code",
        "outputId": "c867a5fc-36a6-4231-8e89-f2130be66b7f",
        "colab": {
          "base_uri": "https://localhost:8080/",
          "height": 319
        }
      },
      "source": [
        "print(len(a_tr))\n",
        "print(len(al_tr))\n",
        "\n",
        "print(len(b_tr))\n",
        "print(len(bl_tr))\n",
        "\n",
        "print(len(c_tr))\n",
        "print(len(cl_tr))\n",
        "\n",
        "print(len(d_tr))\n",
        "print(len(dl_tr))\n",
        "\n",
        "print(len(e_tr))\n",
        "print(len(el_tr))\n",
        "\n",
        "print(len(f_tr))\n",
        "print(len(fl_tr))\n",
        "\n",
        "print(len(a_ts))\n",
        "print(len(al_ts))\n",
        "\n",
        "print(len(a))\n",
        "print(len(b))\n",
        "print(len(g))\n",
        "\n",
        "print(len(trainset))"
      ],
      "execution_count": 24,
      "outputs": [
        {
          "output_type": "stream",
          "text": [
            "6000\n",
            "6000\n",
            "6000\n",
            "6000\n",
            "6000\n",
            "6000\n",
            "6000\n",
            "6000\n",
            "6000\n",
            "6000\n",
            "6000\n",
            "6000\n",
            "6000\n",
            "6000\n",
            "6000\n",
            "6000\n",
            "6000\n",
            "36000\n"
          ],
          "name": "stdout"
        }
      ]
    },
    {
      "cell_type": "code",
      "metadata": {
        "id": "tHipiw2VbqK_",
        "colab_type": "code",
        "colab": {}
      },
      "source": [
        "def labelAdder(label, setList):\n",
        "  for i in range (0, 3000):\n",
        "    label.append(0)\n",
        "  \n",
        "  for i in range (3000, 6000):\n",
        "    label.append(1)\n",
        "    setList[i] = np.flipud(setList[i])"
      ],
      "execution_count": 0,
      "outputs": []
    },
    {
      "cell_type": "code",
      "metadata": {
        "id": "OpAfZURZcCms",
        "colab_type": "code",
        "colab": {}
      },
      "source": [
        "#Train set ters ve duz olusturma ve label ekleme\n",
        "a = []\n",
        "b = []\n",
        "c = []\n",
        "d = []\n",
        "e = []\n",
        "f = []\n",
        "\n",
        "labelAdder(a, a_tr)\n",
        "labelAdder(b, b_tr)\n",
        "labelAdder(c, c_tr)\n",
        "labelAdder(d, d_tr)\n",
        "labelAdder(e, e_tr)\n",
        "labelAdder(f, f_tr)"
      ],
      "execution_count": 0,
      "outputs": []
    },
    {
      "cell_type": "code",
      "metadata": {
        "id": "hdskUpLWcd0j",
        "colab_type": "code",
        "colab": {}
      },
      "source": [
        "#Test set icin ters ve duz olusturma ve label ekleme\n",
        "g = []\n",
        "\n",
        "labelAdder(g, a_ts)"
      ],
      "execution_count": 0,
      "outputs": []
    },
    {
      "cell_type": "code",
      "metadata": {
        "id": "ZlMDd4Qgcwzx",
        "colab_type": "code",
        "colab": {}
      },
      "source": [
        "def trainCombiner(trainset, trainlabel, traintype, sset, label, ttype):\n",
        "  for i in range (0, 6000):\n",
        "    trainset.append(sset[i])\n",
        "    trainlabel.append(label[i])\n",
        "    traintype.append(ttype[i])"
      ],
      "execution_count": 0,
      "outputs": []
    },
    {
      "cell_type": "code",
      "metadata": {
        "id": "_cqI3jfldISA",
        "colab_type": "code",
        "colab": {}
      },
      "source": [
        "trainset = []\n",
        "trainlabel = []\n",
        "traintype = []\n",
        "\n",
        "trainCombiner(trainset, trainlabel, traintype, a_tr, a, al_tr)\n",
        "trainCombiner(trainset, trainlabel, traintype, b_tr, b, bl_tr)\n",
        "trainCombiner(trainset, trainlabel, traintype, c_tr, c, cl_tr)\n",
        "trainCombiner(trainset, trainlabel, traintype, d_tr, d, dl_tr)\n",
        "trainCombiner(trainset, trainlabel, traintype, e_tr, e, el_tr)\n",
        "trainCombiner(trainset, trainlabel, traintype, f_tr, f, fl_tr)"
      ],
      "execution_count": 0,
      "outputs": []
    },
    {
      "cell_type": "code",
      "metadata": {
        "id": "cexPOEB29kPx",
        "colab_type": "code",
        "colab": {}
      },
      "source": [
        "#Train set icin shuffle islemleri\n",
        "combined = list(zip(trainset, trainlabel, traintype))\n",
        "random.shuffle(combined)\n",
        "\n",
        "trainset[:], trainlabel[:], traintype[:] = zip(*combined)"
      ],
      "execution_count": 0,
      "outputs": []
    },
    {
      "cell_type": "code",
      "metadata": {
        "id": "jtQyQi3thyJJ",
        "colab_type": "code",
        "colab": {}
      },
      "source": [
        "#Test set icin shuffle islemleri\n",
        "combined = list(zip(a_ts, g, al_ts))\n",
        "random.shuffle(combined)\n",
        "\n",
        "a_ts[:], g[:], al_ts[:] = zip(*combined)"
      ],
      "execution_count": 0,
      "outputs": []
    },
    {
      "cell_type": "code",
      "metadata": {
        "id": "DhXWKJoRC1Lw",
        "colab_type": "code",
        "outputId": "6a01779d-c3ae-4e5b-89c6-a2210fdc74e9",
        "colab": {
          "base_uri": "https://localhost:8080/",
          "height": 314
        }
      },
      "source": [
        "i = 45\n",
        "rgb = a_ts[i] #Visualize image and label\n",
        "plt.imshow(rgb)\n",
        "plt.title(int(g[i]))\n",
        "\n",
        "print(al_ts[i])\n",
        "\n",
        "if (g[i] == 1):\n",
        "  print(\"ters\")\n",
        "else:\n",
        "  print(\"duz\")"
      ],
      "execution_count": 23,
      "outputs": [
        {
          "output_type": "stream",
          "text": [
            "[7]\n",
            "ters\n"
          ],
          "name": "stdout"
        },
        {
          "output_type": "display_data",
          "data": {
            "image/png": "[encoded data removed]",
            "text/plain": [
              "<Figure size 432x288 with 1 Axes>"
            ]
          },
          "metadata": {
            "tags": []
          }
        }
      ]
    },
    {
      "cell_type": "code",
      "metadata": {
        "id": "jAKmYTvyUgrI",
        "colab_type": "code",
        "colab": {}
      },
      "source": [
        "np.save(data_path + \"trainset_horsev1\", trainset)\n",
        "np.save(data_path + \"trainlabel_horsev1\", trainlabel)\n",
        "np.save(data_path + \"traintype_horsev1\", traintype)\n",
        "\n",
        "np.save(data_path + \"testset_horsev1\", a_ts)\n",
        "np.save(data_path + \"testlabel_horsev1\", g)\n",
        "np.save(data_path + \"testtype_horsev1\", al_ts)"
      ],
      "execution_count": 0,
      "outputs": []
    }
  ]
}