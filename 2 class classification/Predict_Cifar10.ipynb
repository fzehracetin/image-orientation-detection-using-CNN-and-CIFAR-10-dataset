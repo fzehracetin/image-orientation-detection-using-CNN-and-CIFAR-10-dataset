{
  "nbformat": 4,
  "nbformat_minor": 0,
  "metadata": {
    "colab": {
      "name": "Predict_Cifar10.ipynb",
      "version": "0.3.2",
      "provenance": [],
      "collapsed_sections": []
    },
    "kernelspec": {
      "name": "python3",
      "display_name": "Python 3"
    }
  },
  "cells": [
    {
      "cell_type": "code",
      "metadata": {
        "id": "Lhz0Frh6Rog3",
        "colab_type": "code",
        "outputId": "7e7cbc5e-c49a-4373-80f3-9528285ce010",
        "colab": {
          "base_uri": "https://localhost:8080/",
          "height": 138
        }
      },
      "source": [
        "# Importing the Keras libraries and packages\n",
        "from keras.models import Sequential\n",
        "from keras.layers import Conv2D\n",
        "from keras.layers import MaxPooling2D\n",
        "from keras.layers import Flatten\n",
        "from keras.layers import Dense\n",
        "from google.colab import drive, files\n",
        "from keras.preprocessing.image import ImageDataGenerator\n",
        "import numpy as np\n",
        "from keras.models import load_model \n",
        "import matplotlib.pyplot as plt\n",
        "\n",
        "drive.mount('/content/gdrive/')\n",
        "path = '/content/gdrive/My Drive/np_arrays/'\n",
        "models_path = '/content/gdrive/My Drive/np_arrays/models/'\n",
        "data_path = '/content/gdrive/My Drive/np_arrays/datasets/'"
      ],
      "execution_count": 0,
      "outputs": [
        {
          "output_type": "stream",
          "text": [
            "Using TensorFlow backend.\n"
          ],
          "name": "stderr"
        },
        {
          "output_type": "stream",
          "text": [
            "Go to this URL in a browser: https://accounts.google.com/o/oauth2/auth?client_id=947318989803-6bn6qk8qdgf4n4g3pfee6491hc0brc4i.apps.googleusercontent.com&redirect_uri=urn%3Aietf%3Awg%3Aoauth%3A2.0%3Aoob&scope=email%20https%3A%2F%2Fwww.googleapis.com%2Fauth%2Fdocs.test%20https%3A%2F%2Fwww.googleapis.com%2Fauth%2Fdrive%20https%3A%2F%2Fwww.googleapis.com%2Fauth%2Fdrive.photos.readonly%20https%3A%2F%2Fwww.googleapis.com%2Fauth%2Fpeopleapi.readonly&response_type=code\n",
            "\n",
            "Enter your authorization code:\n",
            "··········\n",
            "Mounted at /content/gdrive/\n"
          ],
          "name": "stdout"
        }
      ]
    },
    {
      "cell_type": "code",
      "metadata": {
        "id": "Sa_yz-9nKKow",
        "colab_type": "code",
        "colab": {}
      },
      "source": [
        ""
      ],
      "execution_count": 0,
      "outputs": []
    },
    {
      "cell_type": "code",
      "metadata": {
        "id": "QKebhjnVSQ1S",
        "colab_type": "code",
        "outputId": "e9718a1b-570d-42f4-c249-1fe4dd6ddc49",
        "colab": {
          "base_uri": "https://localhost:8080/",
          "height": 739
        }
      },
      "source": [
        "#loads the saved model\n",
        "model = load_model(models_path + \"cifar10_auto.h5\")\n",
        "model.summary()"
      ],
      "execution_count": 0,
      "outputs": [
        {
          "output_type": "stream",
          "text": [
            "_________________________________________________________________\n",
            "Layer (type)                 Output Shape              Param #   \n",
            "=================================================================\n",
            "conv2d_1 (Conv2D)            (None, 32, 32, 32)        896       \n",
            "_________________________________________________________________\n",
            "activation_1 (Activation)    (None, 32, 32, 32)        0         \n",
            "_________________________________________________________________\n",
            "conv2d_2 (Conv2D)            (None, 30, 30, 32)        9248      \n",
            "_________________________________________________________________\n",
            "activation_2 (Activation)    (None, 30, 30, 32)        0         \n",
            "_________________________________________________________________\n",
            "max_pooling2d_1 (MaxPooling2 (None, 15, 15, 32)        0         \n",
            "_________________________________________________________________\n",
            "dropout_1 (Dropout)          (None, 15, 15, 32)        0         \n",
            "_________________________________________________________________\n",
            "conv2d_3 (Conv2D)            (None, 15, 15, 64)        18496     \n",
            "_________________________________________________________________\n",
            "activation_3 (Activation)    (None, 15, 15, 64)        0         \n",
            "_________________________________________________________________\n",
            "conv2d_4 (Conv2D)            (None, 13, 13, 64)        36928     \n",
            "_________________________________________________________________\n",
            "activation_4 (Activation)    (None, 13, 13, 64)        0         \n",
            "_________________________________________________________________\n",
            "max_pooling2d_2 (MaxPooling2 (None, 6, 6, 64)          0         \n",
            "_________________________________________________________________\n",
            "dropout_2 (Dropout)          (None, 6, 6, 64)          0         \n",
            "_________________________________________________________________\n",
            "flatten_1 (Flatten)          (None, 2304)              0         \n",
            "_________________________________________________________________\n",
            "dense_1 (Dense)              (None, 512)               1180160   \n",
            "_________________________________________________________________\n",
            "activation_5 (Activation)    (None, 512)               0         \n",
            "_________________________________________________________________\n",
            "dropout_3 (Dropout)          (None, 512)               0         \n",
            "_________________________________________________________________\n",
            "dense_2 (Dense)              (None, 1)                 513       \n",
            "_________________________________________________________________\n",
            "activation_6 (Activation)    (None, 1)                 0         \n",
            "=================================================================\n",
            "Total params: 1,246,241\n",
            "Trainable params: 1,246,241\n",
            "Non-trainable params: 0\n",
            "_________________________________________________________________\n"
          ],
          "name": "stdout"
        }
      ]
    },
    {
      "cell_type": "code",
      "metadata": {
        "id": "NOfnc59J3kWx",
        "colab_type": "code",
        "colab": {}
      },
      "source": [
        "x_test = np.load(data_path + \"testset_auto.npy\")\n",
        "y_test = np.load(data_path + \"testlabel_auto.npy\")\n",
        "z_test = np.load(data_path + \"testtype_auto.npy\")"
      ],
      "execution_count": 0,
      "outputs": []
    },
    {
      "cell_type": "code",
      "metadata": {
        "id": "NSKzT9K75e1s",
        "colab_type": "code",
        "colab": {}
      },
      "source": [
        "predictions = model.predict(x_test, batch_size = 32)"
      ],
      "execution_count": 0,
      "outputs": []
    },
    {
      "cell_type": "code",
      "metadata": {
        "id": "LfWEmb6THL6F",
        "colab_type": "code",
        "outputId": "74128a53-33c8-4a98-b749-bd201b1764af",
        "colab": {
          "base_uri": "https://localhost:8080/",
          "height": 331
        }
      },
      "source": [
        "#Visualize image and label\n",
        "i = 33\n",
        "rgb = x_test[i] \n",
        "plt.imshow(rgb)\n",
        "plt.title(int(y_test[i]))\n",
        "\n",
        "print(\"class number\", z_test[i])\n",
        "\n",
        "if (y_test[i] == 1):\n",
        "  print(\"ters\")\n",
        "else:\n",
        "  print(\"duz\")\n",
        "  \n",
        "if (predictions[i] == 1):\n",
        "  print(\"tahmin ters\")\n",
        "else:\n",
        "  print(\"tahmin duz\")"
      ],
      "execution_count": 0,
      "outputs": [
        {
          "output_type": "stream",
          "text": [
            "class number [1]\n",
            "duz\n",
            "tahmin duz\n"
          ],
          "name": "stdout"
        },
        {
          "output_type": "display_data",
          "data": {
            "image/png": "[encoded data removed]",
            "text/plain": [
              "<Figure size 432x288 with 1 Axes>"
            ]
          },
          "metadata": {
            "tags": []
          }
        }
      ]
    },
    {
      "cell_type": "code",
      "metadata": {
        "id": "T1BHDcCK0Foy",
        "colab_type": "code",
        "colab": {}
      },
      "source": [
        "for i in range (6000):\n",
        "  if predictions[i] > 0.5 :\n",
        "    predictions[i] = 1\n",
        "  else : \n",
        "    predictions[i] = 0"
      ],
      "execution_count": 0,
      "outputs": []
    },
    {
      "cell_type": "code",
      "metadata": {
        "id": "8fc6FARj52IL",
        "colab_type": "code",
        "outputId": "18a6aa6d-f030-43c1-f469-9dcfc14ed0d9",
        "colab": {
          "base_uri": "https://localhost:8080/",
          "height": 218
        }
      },
      "source": [
        "print(len(predictions))\n",
        "\n",
        "print(predictions[10:20])\n",
        "print(y_test[10:20])"
      ],
      "execution_count": 0,
      "outputs": [
        {
          "output_type": "stream",
          "text": [
            "6000\n",
            "[[1.]\n",
            " [0.]\n",
            " [1.]\n",
            " [1.]\n",
            " [0.]\n",
            " [1.]\n",
            " [1.]\n",
            " [1.]\n",
            " [0.]\n",
            " [0.]]\n",
            "[1 0 0 0 0 1 1 1 0 0]\n"
          ],
          "name": "stdout"
        }
      ]
    },
    {
      "cell_type": "code",
      "metadata": {
        "id": "1O7aeZW-6Vg7",
        "colab_type": "code",
        "outputId": "667b8f27-a0c3-42ba-ed9a-47d205645d48",
        "colab": {
          "base_uri": "https://localhost:8080/",
          "height": 34
        }
      },
      "source": [
        "true = 0\n",
        "false = 0\n",
        "for i in range (6000) :\n",
        "  if predictions[i] == y_test[i] : \n",
        "    true = true + 1\n",
        "  else:\n",
        "    false = false + 1\n",
        "    \n",
        "accuracy = (true) / (true + false)\n",
        "\n",
        "print(accuracy)"
      ],
      "execution_count": 0,
      "outputs": [
        {
          "output_type": "stream",
          "text": [
            "0.7846666666666666\n"
          ],
          "name": "stdout"
        }
      ]
    }
  ]
}