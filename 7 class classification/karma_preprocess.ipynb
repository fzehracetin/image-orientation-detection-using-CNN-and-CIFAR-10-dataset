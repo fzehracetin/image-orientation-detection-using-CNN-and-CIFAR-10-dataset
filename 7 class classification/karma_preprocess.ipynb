{
  "nbformat": 4,
  "nbformat_minor": 0,
  "metadata": {
    "colab": {
      "name": "karma_preprocess.ipynb",
      "version": "0.3.2",
      "provenance": [],
      "collapsed_sections": []
    },
    "kernelspec": {
      "name": "python3",
      "display_name": "Python 3"
    }
  },
  "cells": [
    {
      "cell_type": "code",
      "metadata": {
        "id": "vSc9mbu82uZ9",
        "colab_type": "code",
        "outputId": "32b594ea-0f5a-416a-c41a-9fca02b81604",
        "colab": {
          "base_uri": "https://localhost:8080/",
          "height": 50
        }
      },
      "source": [
        "import keras\n",
        "from keras.datasets import cifar10\n",
        "import numpy as np\n",
        "import matplotlib.pyplot as plt\n",
        "import random\n",
        "\n",
        "from google.colab import drive, files\n",
        "drive.mount('/content/gdrive/')\n",
        "path = '/content/gdrive/My Drive/np_arrays/datasets/'\n",
        "models_path = '/content/gdrive/My Drive/np_arrays/models/'\n",
        "data_path = '/content/gdrive/My Drive/np_arrays/datasets/'"
      ],
      "execution_count": 0,
      "outputs": [
        {
          "output_type": "stream",
          "text": [
            "Using TensorFlow backend.\n"
          ],
          "name": "stderr"
        },
        {
          "output_type": "stream",
          "text": [
            "Drive already mounted at /content/gdrive/; to attempt to forcibly remount, call drive.mount(\"/content/gdrive/\", force_remount=True).\n"
          ],
          "name": "stdout"
        }
      ]
    },
    {
      "cell_type": "code",
      "metadata": {
        "id": "DKQecRLK23Aq",
        "colab_type": "code",
        "outputId": "d7124d66-9b2e-4d2c-8793-e4c2fb8672d8",
        "colab": {
          "base_uri": "https://localhost:8080/",
          "height": 50
        }
      },
      "source": [
        "(x_train, y_train), (x_test, y_test) = cifar10.load_data()\n",
        "\n",
        "labels = ['airplane', 'automobile', 'bird', 'cat', 'deer', 'dog', 'frog', 'horse', 'ship', 'truck']"
      ],
      "execution_count": 0,
      "outputs": [
        {
          "output_type": "stream",
          "text": [
            "Downloading data from https://www.cs.toronto.edu/~kriz/cifar-10-python.tar.gz\n",
            "170500096/170498071 [==============================] - 4s 0us/step\n"
          ],
          "name": "stdout"
        }
      ]
    },
    {
      "cell_type": "code",
      "metadata": {
        "id": "eP-oQ7I_30Od",
        "colab_type": "code",
        "outputId": "7ba94e33-bd44-4b6a-d2d6-c07382119448",
        "colab": {
          "base_uri": "https://localhost:8080/",
          "height": 84
        }
      },
      "source": [
        "print(len(x_train))\n",
        "print(len(x_test))\n",
        "print(len(y_train))\n",
        "print(len(y_test))"
      ],
      "execution_count": 0,
      "outputs": [
        {
          "output_type": "stream",
          "text": [
            "50000\n",
            "10000\n",
            "50000\n",
            "10000\n"
          ],
          "name": "stdout"
        }
      ]
    },
    {
      "cell_type": "code",
      "metadata": {
        "id": "v3VhgtwPdzwm",
        "colab_type": "code",
        "outputId": "d567be0e-2468-4466-deb2-5a47c74d9c55",
        "colab": {
          "base_uri": "https://localhost:8080/",
          "height": 34
        }
      },
      "source": [
        "print(y_train[0])"
      ],
      "execution_count": 0,
      "outputs": [
        {
          "output_type": "stream",
          "text": [
            "[6]\n"
          ],
          "name": "stdout"
        }
      ]
    },
    {
      "cell_type": "code",
      "metadata": {
        "id": "DJ9V22ABjZkT",
        "colab_type": "code",
        "outputId": "10ae5858-9afe-4298-d073-b02e056f44dc",
        "colab": {
          "base_uri": "https://localhost:8080/",
          "height": 34
        }
      },
      "source": [
        "print(y_train[1]-1)"
      ],
      "execution_count": 0,
      "outputs": [
        {
          "output_type": "stream",
          "text": [
            "[8]\n"
          ],
          "name": "stdout"
        }
      ]
    },
    {
      "cell_type": "code",
      "metadata": {
        "id": "N3pGDRKpwl8l",
        "colab_type": "code",
        "colab": {}
      },
      "source": [
        "def setMaker(trainset, traintype, testset, testtype, index):\n",
        "  j = 0\n",
        "  i = 0\n",
        "  while( i < 50000 and j != 4800): \n",
        "    if (y_train[i] == index): #train set oluşturuluyor\n",
        "      trainset.append(x_train[i])\n",
        "      if (y_train[i] == 7):\n",
        "        traintype.append(y_train[27]) #5\n",
        "      elif (y_train[i] == 9):\n",
        "        traintype.append(y_train[0]) #6\n",
        "      else:\n",
        "        traintype.append(y_train[i] - 1)\n",
        "      j = j + 1\n",
        "    i = i + 1\n",
        "\n",
        "  while( i < 50000 and j != 5000): \n",
        "    if (y_train[i] == index): #test set oluşturuluyor\n",
        "      testset.append(x_train[i])\n",
        "      if (y_train[i] == 7):\n",
        "        testtype.append(y_train[27]) #5\n",
        "      elif (y_train[i] == 9):\n",
        "        testtype.append(y_train[0]) #6\n",
        "      else:\n",
        "        testtype.append(y_train[i] - 1)\n",
        "      j = j + 1\n",
        "    i = i + 1\n",
        "\n",
        "  i = 0\n",
        "  j = 0\n",
        "  while( i < 10000 and j != 1000):\n",
        "    if (y_test[i] == index): #test set oluşturuluyor\n",
        "      testset.append(x_test[i])\n",
        "      if (y_test[i] == 7):\n",
        "        testtype.append(y_train[27]) #5\n",
        "      elif (y_test[i] == 9):\n",
        "        testtype.append(y_train[0]) #6\n",
        "      else:\n",
        "        testtype.append(y_test[i] - 1)\n",
        "      j = j + 1\n",
        "    i = i + 1"
      ],
      "execution_count": 0,
      "outputs": []
    },
    {
      "cell_type": "code",
      "metadata": {
        "id": "6JvQiAA433LR",
        "colab_type": "code",
        "colab": {}
      },
      "source": [
        "#Train Matrisi yap #datasetten belli labeldeki şeyleri çekmek\n",
        "trainset = []\n",
        "traintype = []\n",
        "testset = []\n",
        "testtype = []\n",
        "\n",
        "setMaker(trainset, traintype, testset, testtype, 1) #automobile\n",
        "setMaker(trainset, traintype, testset, testtype, 2) #bird\n",
        "setMaker(trainset, traintype, testset, testtype, 3) #cat\n",
        "setMaker(trainset, traintype, testset, testtype, 4) #deer\n",
        "setMaker(trainset, traintype, testset, testtype, 5) #dog\n",
        "setMaker(trainset, traintype, testset, testtype, 7) #horse\n",
        "setMaker(trainset, traintype, testset, testtype, 9) #truck"
      ],
      "execution_count": 0,
      "outputs": []
    },
    {
      "cell_type": "code",
      "metadata": {
        "id": "A0tFvIxr7mLT",
        "colab_type": "code",
        "outputId": "52933bdd-7536-46e0-cdfd-1a5ce3397101",
        "colab": {
          "base_uri": "https://localhost:8080/",
          "height": 84
        }
      },
      "source": [
        "print(len(trainset))\n",
        "print(len(traintype))\n",
        "print(len(testset))\n",
        "print(len(testtype))"
      ],
      "execution_count": 0,
      "outputs": [
        {
          "output_type": "stream",
          "text": [
            "33600\n",
            "33600\n",
            "8400\n",
            "8400\n"
          ],
          "name": "stdout"
        }
      ]
    },
    {
      "cell_type": "code",
      "metadata": {
        "id": "Oz4x41Z28vGP",
        "colab_type": "code",
        "outputId": "a890f739-a1ff-4f40-e833-cadb5173a969",
        "colab": {
          "base_uri": "https://localhost:8080/",
          "height": 298
        }
      },
      "source": [
        "i = 33599\n",
        "rgb = trainset[i] #Visualize image and label\n",
        "plt.imshow(rgb)\n",
        "plt.title(int(traintype[i]))\n"
      ],
      "execution_count": 0,
      "outputs": [
        {
          "output_type": "execute_result",
          "data": {
            "text/plain": [
              "Text(0.5, 1.0, '6')"
            ]
          },
          "metadata": {
            "tags": []
          },
          "execution_count": 44
        },
        {
          "output_type": "display_data",
          "data": {
            "image/png": "[encoded data removed]",
            "text/plain": [
              "<Figure size 432x288 with 1 Axes>"
            ]
          },
          "metadata": {
            "tags": []
          }
        }
      ]
    },
    {
      "cell_type": "code",
      "metadata": {
        "id": "dmwZd2OKDLFQ",
        "colab_type": "code",
        "outputId": "eb9530de-6914-4ba1-e040-48f3c4f6a2ce",
        "colab": {
          "base_uri": "https://localhost:8080/",
          "height": 298
        }
      },
      "source": [
        "i = 2400\n",
        "rgb = testset[i] #Visualize image and label\n",
        "plt.imshow(rgb)\n",
        "plt.title(int(testtype[i]))"
      ],
      "execution_count": 0,
      "outputs": [
        {
          "output_type": "execute_result",
          "data": {
            "text/plain": [
              "Text(0.5, 1.0, '2')"
            ]
          },
          "metadata": {
            "tags": []
          },
          "execution_count": 45
        },
        {
          "output_type": "display_data",
          "data": {
            "image/png": "[encoded data removed]",
            "text/plain": [
              "<Figure size 432x288 with 1 Axes>"
            ]
          },
          "metadata": {
            "tags": []
          }
        }
      ]
    },
    {
      "cell_type": "code",
      "metadata": {
        "id": "EXlqIaeVayaB",
        "colab_type": "code",
        "outputId": "b8f309cf-bd09-48f3-cd57-43b778b3970e",
        "colab": {
          "base_uri": "https://localhost:8080/",
          "height": 269
        }
      },
      "source": [
        "testtype[:15]"
      ],
      "execution_count": 0,
      "outputs": [
        {
          "output_type": "execute_result",
          "data": {
            "text/plain": [
              "[array([1]),\n",
              " array([0]),\n",
              " array([6], dtype=uint8),\n",
              " array([5], dtype=uint8),\n",
              " array([2], dtype=uint8),\n",
              " array([0]),\n",
              " array([0]),\n",
              " array([6], dtype=uint8),\n",
              " array([1]),\n",
              " array([2]),\n",
              " array([5], dtype=uint8),\n",
              " array([0]),\n",
              " array([1], dtype=uint8),\n",
              " array([2]),\n",
              " array([2])]"
            ]
          },
          "metadata": {
            "tags": []
          },
          "execution_count": 49
        }
      ]
    },
    {
      "cell_type": "code",
      "metadata": {
        "id": "KuhvrFH6ELc1",
        "colab_type": "code",
        "colab": {}
      },
      "source": [
        "#Train set icin shuffle islemleri\n",
        "combined = list(zip(trainset, traintype))\n",
        "random.shuffle(combined)\n",
        "\n",
        "trainset[:], traintype[:] = zip(*combined)"
      ],
      "execution_count": 0,
      "outputs": []
    },
    {
      "cell_type": "code",
      "metadata": {
        "id": "VCNJkFngYg7n",
        "colab_type": "code",
        "colab": {}
      },
      "source": [
        "#Test set icin shuffle islemleri\n",
        "combined = list(zip(testset, testtype))\n",
        "random.shuffle(combined)\n",
        "\n",
        "testset[:], testtype[:] = zip(*combined)"
      ],
      "execution_count": 0,
      "outputs": []
    },
    {
      "cell_type": "code",
      "metadata": {
        "id": "Zvf4h1lIEU1U",
        "colab_type": "code",
        "colab": {}
      },
      "source": [
        "np.save(data_path + \"trainset_karma2\", trainset)\n",
        "np.save(data_path + \"traintype_karma2\", traintype)\n",
        "np.save(data_path + \"testset_karma2\", testset)\n",
        "np.save(data_path + \"testtype_karma2\", testtype)"
      ],
      "execution_count": 0,
      "outputs": []
    }
  ]
}