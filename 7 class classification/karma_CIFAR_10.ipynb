{
  "nbformat": 4,
  "nbformat_minor": 0,
  "metadata": {
    "colab": {
      "name": "karma_CIFAR-10.ipynb",
      "version": "0.3.2",
      "provenance": []
    },
    "kernelspec": {
      "name": "python3",
      "display_name": "Python 3"
    }
  },
  "cells": [
    {
      "cell_type": "code",
      "metadata": {
        "id": "ps1rDIwH-OLX",
        "colab_type": "code",
        "outputId": "d7c2c091-928e-422b-f59c-335b2ed349b2",
        "colab": {
          "base_uri": "https://localhost:8080/",
          "height": 50
        }
      },
      "source": [
        "from __future__ import print_function\n",
        "import keras\n",
        "from keras.datasets import cifar10\n",
        "from keras.preprocessing.image import ImageDataGenerator\n",
        "from keras.models import Sequential\n",
        "from keras.layers import Dense, Dropout, Activation, Flatten\n",
        "from keras.layers import Conv2D, MaxPooling2D\n",
        "import os\n",
        "import numpy as np\n",
        "import matplotlib.pyplot as plt\n",
        "\n",
        "from google.colab import drive, files\n",
        "drive.mount('/content/gdrive/')\n",
        "path = '/content/gdrive/My Drive/np_arrays/'\n",
        "models_path = '/content/gdrive/My Drive/np_arrays/models/'\n",
        "data_path = '/content/gdrive/My Drive/np_arrays/datasets/'"
      ],
      "execution_count": 0,
      "outputs": [
        {
          "output_type": "stream",
          "text": [
            "Using TensorFlow backend.\n"
          ],
          "name": "stderr"
        },
        {
          "output_type": "stream",
          "text": [
            "Drive already mounted at /content/gdrive/; to attempt to forcibly remount, call drive.mount(\"/content/gdrive/\", force_remount=True).\n"
          ],
          "name": "stdout"
        }
      ]
    },
    {
      "cell_type": "code",
      "metadata": {
        "id": "ydiXQCph-jPJ",
        "colab_type": "code",
        "colab": {}
      },
      "source": [
        "batch_size = 32\n",
        "num_classes = 2\n",
        "epochs = 25\n",
        "data_augmentation = True\n",
        "num_predictions = 20\n",
        "\n",
        "x_train = np.load(data_path + \"trainset_karma1.npy\")\n",
        "y_train = np.load(data_path + \"traintype_karma1.npy\")\n",
        "\n",
        "x_test = np.load(data_path + \"testset_karma1.npy\")\n",
        "y_test = np.load(data_path + \"testtype_karma1.npy\")\n",
        "num_classes = 7"
      ],
      "execution_count": 0,
      "outputs": []
    },
    {
      "cell_type": "code",
      "metadata": {
        "id": "JvJUWVUXlEPS",
        "colab_type": "code",
        "outputId": "46e5f333-37f0-46c1-f70b-6a80ef246afe",
        "colab": {
          "base_uri": "https://localhost:8080/",
          "height": 269
        }
      },
      "source": [
        "print(y_train[:15])"
      ],
      "execution_count": 0,
      "outputs": [
        {
          "output_type": "stream",
          "text": [
            "[[5]\n",
            " [5]\n",
            " [3]\n",
            " [5]\n",
            " [0]\n",
            " [1]\n",
            " [1]\n",
            " [5]\n",
            " [4]\n",
            " [1]\n",
            " [0]\n",
            " [4]\n",
            " [0]\n",
            " [2]\n",
            " [5]]\n"
          ],
          "name": "stdout"
        }
      ]
    },
    {
      "cell_type": "code",
      "metadata": {
        "id": "3PBNoQO8-yeU",
        "colab_type": "code",
        "outputId": "0aeef5a9-175d-4dbf-9037-c099c0b5f8f8",
        "colab": {
          "base_uri": "https://localhost:8080/",
          "height": 298
        }
      },
      "source": [
        "#Visualize image and label\n",
        "i = 100\n",
        "rgb = x_train[i] \n",
        "plt.imshow(rgb)\n",
        "plt.title(int(y_train[i]))"
      ],
      "execution_count": 0,
      "outputs": [
        {
          "output_type": "execute_result",
          "data": {
            "text/plain": [
              "Text(0.5, 1.0, '1')"
            ]
          },
          "metadata": {
            "tags": []
          },
          "execution_count": 35
        },
        {
          "output_type": "display_data",
          "data": {
            "image/png": "[encoded data removed]",
            "text/plain": [
              "<Figure size 432x288 with 1 Axes>"
            ]
          },
          "metadata": {
            "tags": []
          }
        }
      ]
    },
    {
      "cell_type": "code",
      "metadata": {
        "id": "bhXh5pcK-1n8",
        "colab_type": "code",
        "outputId": "e4ac9dca-ea14-41ea-be31-c9872c5fc6d0",
        "colab": {
          "base_uri": "https://localhost:8080/",
          "height": 84
        }
      },
      "source": [
        "print(x_train.shape)\n",
        "print(y_train.shape)\n",
        "print(x_test.shape)\n",
        "print(y_test.shape)"
      ],
      "execution_count": 0,
      "outputs": [
        {
          "output_type": "stream",
          "text": [
            "(33600, 32, 32, 3)\n",
            "(33600, 1)\n",
            "(8400, 32, 32, 3)\n",
            "(8400, 1)\n"
          ],
          "name": "stdout"
        }
      ]
    },
    {
      "cell_type": "code",
      "metadata": {
        "id": "l_2PIv01XRHI",
        "colab_type": "code",
        "colab": {}
      },
      "source": [
        "y_train = keras.utils.to_categorical(y_train, num_classes)\n",
        "y_test = keras.utils.to_categorical(y_test, num_classes)"
      ],
      "execution_count": 0,
      "outputs": []
    },
    {
      "cell_type": "code",
      "metadata": {
        "id": "iizHPmRuiJl3",
        "colab_type": "code",
        "outputId": "36bd4d26-91e3-484d-80c0-c23be8099249",
        "colab": {
          "base_uri": "https://localhost:8080/",
          "height": 269
        }
      },
      "source": [
        "y_train[:15]"
      ],
      "execution_count": 0,
      "outputs": [
        {
          "output_type": "execute_result",
          "data": {
            "text/plain": [
              "array([[0., 0., 0., 0., 0., 1., 0.],\n",
              "       [0., 0., 0., 0., 0., 1., 0.],\n",
              "       [0., 0., 0., 1., 0., 0., 0.],\n",
              "       [0., 0., 0., 0., 0., 1., 0.],\n",
              "       [1., 0., 0., 0., 0., 0., 0.],\n",
              "       [0., 1., 0., 0., 0., 0., 0.],\n",
              "       [0., 1., 0., 0., 0., 0., 0.],\n",
              "       [0., 0., 0., 0., 0., 1., 0.],\n",
              "       [0., 0., 0., 0., 1., 0., 0.],\n",
              "       [0., 1., 0., 0., 0., 0., 0.],\n",
              "       [1., 0., 0., 0., 0., 0., 0.],\n",
              "       [0., 0., 0., 0., 1., 0., 0.],\n",
              "       [1., 0., 0., 0., 0., 0., 0.],\n",
              "       [0., 0., 1., 0., 0., 0., 0.],\n",
              "       [0., 0., 0., 0., 0., 1., 0.]], dtype=float32)"
            ]
          },
          "metadata": {
            "tags": []
          },
          "execution_count": 38
        }
      ]
    },
    {
      "cell_type": "code",
      "metadata": {
        "id": "Ev4dQf-r-3wd",
        "colab_type": "code",
        "colab": {}
      },
      "source": [
        "model = Sequential()\n",
        "model.add(Conv2D(32, (3, 3), padding='same',\n",
        "                 input_shape=x_train.shape[1:]))\n",
        "model.add(Activation('relu'))\n",
        "model.add(Conv2D(32, (3, 3)))\n",
        "model.add(Activation('relu'))\n",
        "model.add(MaxPooling2D(pool_size=(2, 2)))\n",
        "model.add(Dropout(0.25))\n",
        "\n",
        "model.add(Conv2D(64, (3, 3), padding='same'))\n",
        "model.add(Activation('relu'))\n",
        "model.add(Conv2D(64, (3, 3)))\n",
        "model.add(Activation('relu'))\n",
        "model.add(MaxPooling2D(pool_size=(2, 2)))\n",
        "model.add(Dropout(0.25))\n",
        "\n",
        "model.add(Flatten())\n",
        "model.add(Dense(512))\n",
        "model.add(Activation('relu'))\n",
        "model.add(Dropout(0.5))\n",
        "model.add(Dense(num_classes))\n",
        "model.add(Activation('softmax'))\n",
        "\n",
        "# Let's train the model using RMSprop\n",
        "model.compile(loss='categorical_crossentropy',\n",
        "              optimizer='adam',\n",
        "              metrics=['accuracy'])"
      ],
      "execution_count": 0,
      "outputs": []
    },
    {
      "cell_type": "code",
      "metadata": {
        "id": "ZkqmmagX-6aJ",
        "colab_type": "code",
        "colab": {}
      },
      "source": [
        "x_train = x_train.astype('float32')\n",
        "x_test = x_test.astype('float32')\n",
        "x_train /= 255\n",
        "x_test /= 255"
      ],
      "execution_count": 0,
      "outputs": []
    },
    {
      "cell_type": "code",
      "metadata": {
        "id": "ErEEWrk2-8PT",
        "colab_type": "code",
        "outputId": "53b966de-55cb-4da7-9e9d-5bd1608e41b1",
        "colab": {
          "base_uri": "https://localhost:8080/",
          "height": 890
        }
      },
      "source": [
        "model.fit(x_train, y_train,\n",
        "              batch_size=batch_size,\n",
        "              epochs=epochs,\n",
        "              validation_data=(x_test, y_test),\n",
        "              shuffle=True\n",
        "              )"
      ],
      "execution_count": 0,
      "outputs": [
        {
          "output_type": "stream",
          "text": [
            "Train on 33600 samples, validate on 8400 samples\n",
            "Epoch 1/25\n",
            "33600/33600 [==============================] - 198s 6ms/step - loss: 1.3640 - acc: 0.4510 - val_loss: 2.1010 - val_acc: 0.2846\n",
            "Epoch 2/25\n",
            "33600/33600 [==============================] - 194s 6ms/step - loss: 1.0824 - acc: 0.5836 - val_loss: 1.8983 - val_acc: 0.3029\n",
            "Epoch 3/25\n",
            "33600/33600 [==============================] - 193s 6ms/step - loss: 0.9169 - acc: 0.6538 - val_loss: 1.9299 - val_acc: 0.3289\n",
            "Epoch 4/25\n",
            "33600/33600 [==============================] - 194s 6ms/step - loss: 0.8241 - acc: 0.6901 - val_loss: 1.9529 - val_acc: 0.3324\n",
            "Epoch 5/25\n",
            "33600/33600 [==============================] - 194s 6ms/step - loss: 0.7661 - acc: 0.7148 - val_loss: 2.0263 - val_acc: 0.3192\n",
            "Epoch 6/25\n",
            "33600/33600 [==============================] - 194s 6ms/step - loss: 0.7143 - acc: 0.7363 - val_loss: 1.9927 - val_acc: 0.3365\n",
            "Epoch 7/25\n",
            "33600/33600 [==============================] - 192s 6ms/step - loss: 0.6785 - acc: 0.7499 - val_loss: 1.8240 - val_acc: 0.3713\n",
            "Epoch 8/25\n",
            "33600/33600 [==============================] - 190s 6ms/step - loss: 0.6432 - acc: 0.7610 - val_loss: 2.1521 - val_acc: 0.3477\n",
            "Epoch 9/25\n",
            "33600/33600 [==============================] - 189s 6ms/step - loss: 0.6150 - acc: 0.7711 - val_loss: 2.0685 - val_acc: 0.3439\n",
            "Epoch 10/25\n",
            "33600/33600 [==============================] - 190s 6ms/step - loss: 0.5812 - acc: 0.7849 - val_loss: 2.0125 - val_acc: 0.3625\n",
            "Epoch 11/25\n",
            "33600/33600 [==============================] - 189s 6ms/step - loss: 0.5643 - acc: 0.7924 - val_loss: 2.1082 - val_acc: 0.3617\n",
            "Epoch 12/25\n",
            "33600/33600 [==============================] - 189s 6ms/step - loss: 0.5388 - acc: 0.8027 - val_loss: 2.1799 - val_acc: 0.3644\n",
            "Epoch 13/25\n",
            "33600/33600 [==============================] - 188s 6ms/step - loss: 0.5225 - acc: 0.8089 - val_loss: 2.2983 - val_acc: 0.3390\n",
            "Epoch 14/25\n",
            "33600/33600 [==============================] - 191s 6ms/step - loss: 0.5024 - acc: 0.8131 - val_loss: 2.2739 - val_acc: 0.3643\n",
            "Epoch 15/25\n",
            "33600/33600 [==============================] - 189s 6ms/step - loss: 0.4912 - acc: 0.8196 - val_loss: 2.1833 - val_acc: 0.3469\n",
            "Epoch 16/25\n",
            "33600/33600 [==============================] - 196s 6ms/step - loss: 0.4754 - acc: 0.8285 - val_loss: 2.1596 - val_acc: 0.3638\n",
            "Epoch 17/25\n",
            "33600/33600 [==============================] - 195s 6ms/step - loss: 0.4717 - acc: 0.8276 - val_loss: 2.3782 - val_acc: 0.3626\n",
            "Epoch 18/25\n",
            "33600/33600 [==============================] - 193s 6ms/step - loss: 0.4478 - acc: 0.8358 - val_loss: 2.4365 - val_acc: 0.3612\n",
            "Epoch 19/25\n",
            "33600/33600 [==============================] - 192s 6ms/step - loss: 0.4384 - acc: 0.8386 - val_loss: 2.5038 - val_acc: 0.3498\n",
            "Epoch 20/25\n",
            "33600/33600 [==============================] - 190s 6ms/step - loss: 0.4382 - acc: 0.8407 - val_loss: 2.2930 - val_acc: 0.3680\n",
            "Epoch 21/25\n",
            "33600/33600 [==============================] - 185s 6ms/step - loss: 0.4186 - acc: 0.8449 - val_loss: 2.4529 - val_acc: 0.3604\n",
            "Epoch 22/25\n",
            "33600/33600 [==============================] - 190s 6ms/step - loss: 0.4111 - acc: 0.8508 - val_loss: 2.3700 - val_acc: 0.3727\n",
            "Epoch 23/25\n",
            "33600/33600 [==============================] - 191s 6ms/step - loss: 0.4046 - acc: 0.8507 - val_loss: 2.4611 - val_acc: 0.3520\n",
            "Epoch 24/25\n",
            "33600/33600 [==============================] - 191s 6ms/step - loss: 0.3995 - acc: 0.8549 - val_loss: 2.4881 - val_acc: 0.3673\n",
            "Epoch 25/25\n",
            "33600/33600 [==============================] - 190s 6ms/step - loss: 0.3887 - acc: 0.8589 - val_loss: 2.5380 - val_acc: 0.3640\n"
          ],
          "name": "stdout"
        },
        {
          "output_type": "execute_result",
          "data": {
            "text/plain": [
              "<keras.callbacks.History at 0x7f2594838208>"
            ]
          },
          "metadata": {
            "tags": []
          },
          "execution_count": 41
        }
      ]
    },
    {
      "cell_type": "code",
      "metadata": {
        "id": "CE6KtUpo-_vX",
        "colab_type": "code",
        "colab": {}
      },
      "source": [
        "import h5py\n",
        "model.save(models_path + \"cifar10_karma1.h5\") #saves the trained model"
      ],
      "execution_count": 0,
      "outputs": []
    }
  ]
}